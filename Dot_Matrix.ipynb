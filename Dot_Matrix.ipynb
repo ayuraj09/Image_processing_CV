{
 "cells": [
  {
   "cell_type": "code",
   "execution_count": 5,
   "id": "8c982bb3",
   "metadata": {},
   "outputs": [
    {
     "name": "stdout",
     "output_type": "stream",
     "text": [
      "Enter a number greater than 1: 1558\n"
     ]
    },
    {
     "data": {
      "text/plain": [
       "(-0.5, 499.5, 299.5, -0.5)"
      ]
     },
     "execution_count": 5,
     "metadata": {},
     "output_type": "execute_result"
    },
    {
     "data": {
      "image/png": "[encoded data removed]",
      "text/plain": [
       "<Figure size 640x480 with 1 Axes>"
      ]
     },
     "metadata": {},
     "output_type": "display_data"
    }
   ],
   "source": [
    "import cv2\n",
    "import numpy as np\n",
    "import matplotlib.pyplot as plt\n",
    "# Define dot matrix dimensions\n",
    "row_count = 5\n",
    "col_count = 3\n",
    "dot_radius = 25\n",
    "\n",
    "# Calculate image size\n",
    "image_height = 300\n",
    "image_width = 500\n",
    "\n",
    "# Create a blank grayscale image\n",
    "dot_matrix_image = np.zeros((image_height, image_width), dtype=np.uint8)\n",
    "\n",
    "# Define the dot positions for each number from 0 to 9\n",
    "dot_positions = {\n",
    "    0: [(1, 1), (1, 2), (1,3), (2, 1), (2, 3), (3, 1), (3, 3), (4, 1), (4, 3), (5, 1), (5, 2), (5,3)],\n",
    "    1: [(3, 2), (4, 2), (5, 2), (1,2), (2,2)],\n",
    "    2: [(1, 1), (1, 2), (1, 3), (3, 2), (2, 3), (3, 1), (3, 3), (4, 1), (5, 1), (5, 2), (5,3)],\n",
    "    3: [(1, 1), (1, 2), (1, 3), (3, 2), (2, 3), (3, 1), (3, 3), (4, 3), (5, 1), (5, 2), (5,3)],\n",
    "    4: [(1, 1), (2, 1), (1, 3), (3, 2), (2, 3), (3, 1), (3, 3), (4, 3), (5,3)],\n",
    "    5: [(1, 1), (1, 2), (1, 3), (3, 2), (2, 1), (3, 1), (3, 3), (4, 3), (5, 1), (5, 2), (5,3)],\n",
    "    6: [(1, 1), (1, 2), (1, 3), (3, 2), (2, 1), (3, 1), (3, 3), (4, 3), (5, 1), (5, 2), (5,3), (4,1)],\n",
    "    7: [(1, 1), (1, 2), (1, 3), (2, 3), (3, 3), (4, 3), (5,3)],\n",
    "    8: [(1, 1), (1, 2), (1,3), (2, 1), (2, 3), (3, 1), (3, 3), (4, 1), (4, 3), (5, 1), (5, 2), (5,3),(3,2)],\n",
    "    9: [(1, 1), (1, 2), (1,3), (2, 1), (2, 3), (3, 1), (3, 3), (4, 3), (5, 1), (5, 2), (5,3),(3,2)]\n",
    "}\n",
    "\n",
    "# Take input for the two-digit number\n",
    "number = int(input(\"Enter a number greater than 1: \"))\n",
    "number = number%100\n",
    "\n",
    "# Get the individual digits of the number\n",
    "digit_1 = number //10\n",
    "digit_2 = number % 10\n",
    "\n",
    "# Get the dot positions for each digit\n",
    "dot_positions_1 = dot_positions[digit_1]\n",
    "dot_positions_2 = dot_positions[digit_2]\n",
    "\n",
    "# Calculate the Mach band effect\n",
    "dot_radius_with_effect = dot_radius - 5\n",
    "\n",
    "# Draw the dots for the first digit\n",
    "for dot_pos in dot_positions_1:\n",
    "    row, col = dot_pos\n",
    "    center_x = (2 * col + 2) * dot_radius\n",
    "    center_y = (2 * row ) * dot_radius\n",
    "    cv2.circle(dot_matrix_image, (center_x, center_y), dot_radius_with_effect, 255, -1)\n",
    "\n",
    "# Draw the dots for the second digit\n",
    "for dot_pos in dot_positions_2:\n",
    "    row, col = dot_pos\n",
    "    center_x = (2 * col + 9) * dot_radius\n",
    "    center_y = (2 * row ) * dot_radius\n",
    "    cv2.circle(dot_matrix_image, (center_x, center_y), dot_radius_with_effect, 255, -1)\n",
    "    \n",
    "# Convert the image from BGR to RGB\n",
    "Final = cv2.cvtColor(dot_matrix_image, cv2.COLOR_BGR2RGB)\n",
    "\n",
    "# Display the dot matrix image\n",
    "plt.imshow(Final)\n",
    "plt.axis('off')\n",
    "# cv2.imshow('Dot Matrix Image', dot_matrix_image)\n",
    "\n",
    "# cv2.waitKey(0)\n",
    "# cv2.destroyAllWindows()\n"
   ]
  },
  {
   "cell_type": "code",
   "execution_count": null,
   "id": "a64fa4b0",
   "metadata": {},
   "outputs": [],
   "source": []
  },
  {
   "cell_type": "code",
   "execution_count": null,
   "id": "9e0ea7f2",
   "metadata": {},
   "outputs": [],
   "source": []
  }
 ],
 "metadata": {
  "kernelspec": {
   "display_name": "Python 3 (ipykernel)",
   "language": "python",
   "name": "python3"
  },
  "language_info": {
   "codemirror_mode": {
    "name": "ipython",
    "version": 3
   },
   "file_extension": ".py",
   "mimetype": "text/x-python",
   "name": "python",
   "nbconvert_exporter": "python",
   "pygments_lexer": "ipython3",
   "version": "3.11.0"
  }
 },
 "nbformat": 4,
 "nbformat_minor": 5
}
